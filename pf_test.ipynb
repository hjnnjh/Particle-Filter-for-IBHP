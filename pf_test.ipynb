{
 "cells": [
  {
   "cell_type": "code",
   "execution_count": 1,
   "metadata": {
    "ExecuteTime": {
     "end_time": "2021-12-01T06:47:52.139402Z",
     "start_time": "2021-12-01T06:47:51.352902Z"
    }
   },
   "outputs": [],
   "source": [
    "import numpy as np\n",
    "from scipy.stats import gamma as gamma_dist"
   ]
  },
  {
   "cell_type": "code",
   "execution_count": 2,
   "metadata": {
    "ExecuteTime": {
     "end_time": "2021-12-01T06:47:52.143270Z",
     "start_time": "2021-12-01T06:47:52.140426Z"
    }
   },
   "outputs": [],
   "source": [
    "lambda_0 = 2\n",
    "beta = np.array([1, 2, 3])\n",
    "tau = np.array([0.1, 0.2, 0.3])\n",
    "kappa = np.array([[0.5, 0.5, 0.5, 0], [0.5, 0, 0.5, 0.5], [0.5, 0, 0.5, 0.5]])\n",
    "w = np.random.dirichlet([1/3] * 3, 4).T\n",
    "t_vec = np.array([0.1, 0.5, 0.7, 0.9, 1.2])"
   ]
  },
  {
   "cell_type": "code",
   "execution_count": 3,
   "metadata": {
    "ExecuteTime": {
     "end_time": "2021-12-01T06:47:52.149770Z",
     "start_time": "2021-12-01T06:47:52.144842Z"
    }
   },
   "outputs": [],
   "source": [
    "def hawkes_likelihood(lambda_0, beta: np.ndarray, tau: np.ndarray, w: np.ndarray,\n",
    "                      kappa: np.ndarray, t_vec: np.ndarray, n: int):\n",
    "    \"\"\"\n",
    "    hawkes似然函数\n",
    "    :param w: base kernel的权重矩阵\n",
    "    :param n: 当前的样本顺序\n",
    "    :param t_vec: 时间戳向量(观测数据)\n",
    "    :param kappa: matrix\n",
    "    :param lambda_0:\n",
    "    :param beta: array\n",
    "    :param tau: array\n",
    "    :return:\n",
    "    \"\"\"\n",
    "    lambda_all = np.zeros(n)\n",
    "    for j in np.arange(n):  # j range\n",
    "        kappa_neq_zero_index_j = np.argwhere(kappa[j, :] != 0)[:, 0]\n",
    "        print(f'kappa {j+1} 非零元素的索引：{kappa_neq_zero_index_j}')\n",
    "        i = np.arange(j + 1)\n",
    "        tj_minus_ti = t_vec[j] - t_vec[i]  # t[i]是一个array，因此tj_minus_ti也是一个array\n",
    "        print(f'tj-ti: {tj_minus_ti}')\n",
    "\n",
    "        t_div_tau_func = np.vectorize(np.divide, signature='(),(n)->(n)')\n",
    "        beta_times_tau_func = np.vectorize(lambda x, y: x * y, signature='(n),(n)->(n)')\n",
    "\n",
    "        gamma = beta_times_tau_func(beta, np.exp(- t_div_tau_func(tj_minus_ti, tau)))\n",
    "        numerator = (w[:, kappa_neq_zero_index_j].T @ gamma.T).T\n",
    "        denominator = np.count_nonzero(kappa[: j + 1, :], axis=1).reshape(-1, 1)\n",
    "        lambda_j = np.einsum('ij->', numerator / denominator)  # 计算lambda_j\n",
    "        lambda_all[j] = lambda_j  # 保存lambda_j\n",
    "    # 计算似然函数\n",
    "    lh = np.exp(-(lambda_0 + np.sum(lambda_all))) * np.prod(lambda_all)\n",
    "    return lh"
   ]
  },
  {
   "cell_type": "code",
   "execution_count": 4,
   "metadata": {
    "ExecuteTime": {
     "end_time": "2021-12-01T06:47:52.158837Z",
     "start_time": "2021-12-01T06:47:52.150907Z"
    }
   },
   "outputs": [
    {
     "name": "stdout",
     "output_type": "stream",
     "text": [
      "kappa 1 非零元素的索引：[0 1 2]\n",
      "tj-ti: [0.]\n"
     ]
    },
    {
     "data": {
      "text/plain": [
       "0.04111675457244679"
      ]
     },
     "execution_count": 4,
     "metadata": {},
     "output_type": "execute_result"
    }
   ],
   "source": [
    "hawkes_likelihood(lambda_0=lambda_0, beta=beta, tau=tau, w=w, kappa=kappa, t_vec=t_vec, n=1)"
   ]
  },
  {
   "cell_type": "code",
   "execution_count": 5,
   "metadata": {
    "ExecuteTime": {
     "end_time": "2021-12-01T06:47:52.162723Z",
     "start_time": "2021-12-01T06:47:52.159817Z"
    }
   },
   "outputs": [
    {
     "data": {
      "text/plain": [
       "array([1.5, 1.5, 1.5])"
      ]
     },
     "execution_count": 5,
     "metadata": {},
     "output_type": "execute_result"
    }
   ],
   "source": [
    "np.sum(kappa, axis=1)"
   ]
  }
 ],
 "metadata": {
  "kernelspec": {
   "display_name": "Python 3.7.9 64-bit ('py379_env': conda)",
   "language": "python",
   "name": "python379jvsc74a57bd02f936ec7e26ed499d6f1db94b37a52b6e68861762c5f67c5c6e7ccf1df5b881e"
  },
  "language_info": {
   "codemirror_mode": {
    "name": "ipython",
    "version": 3
   },
   "file_extension": ".py",
   "mimetype": "text/x-python",
   "name": "python",
   "nbconvert_exporter": "python",
   "pygments_lexer": "ipython3",
   "version": "3.7.9"
  },
  "latex_envs": {
   "LaTeX_envs_menu_present": true,
   "autoclose": false,
   "autocomplete": true,
   "bibliofile": "biblio.bib",
   "cite_by": "apalike",
   "current_citInitial": 1,
   "eqLabelWithNumbers": true,
   "eqNumInitial": 1,
   "hotkeys": {
    "equation": "Ctrl-E",
    "itemize": "Ctrl-I"
   },
   "labels_anchors": false,
   "latex_user_defs": false,
   "report_style_numbering": false,
   "user_envs_cfg": false
  },
  "toc": {
   "base_numbering": 1,
   "nav_menu": {},
   "number_sections": true,
   "sideBar": true,
   "skip_h1_title": false,
   "title_cell": "Table of Contents",
   "title_sidebar": "Contents",
   "toc_cell": false,
   "toc_position": {},
   "toc_section_display": true,
   "toc_window_display": false
  },
  "varInspector": {
   "cols": {
    "lenName": 16,
    "lenType": 16,
    "lenVar": 40
   },
   "kernels_config": {
    "python": {
     "delete_cmd_postfix": "",
     "delete_cmd_prefix": "del ",
     "library": "var_list.py",
     "varRefreshCmd": "print(var_dic_list())"
    },
    "r": {
     "delete_cmd_postfix": ") ",
     "delete_cmd_prefix": "rm(",
     "library": "var_list.r",
     "varRefreshCmd": "cat(var_dic_list()) "
    }
   },
   "types_to_exclude": [
    "module",
    "function",
    "builtin_function_or_method",
    "instance",
    "_Feature"
   ],
   "window_display": false
  }
 },
 "nbformat": 4,
 "nbformat_minor": 4
}
